{
 "cells": [
  {
   "cell_type": "code",
   "execution_count": 9,
   "metadata": {},
   "outputs": [],
   "source": [
    "import vcf # type: ignore\n",
    "import random\n",
    "def snp_vcf_to_genepop_dna(vcf_file, output_file):\n",
    "    \"\"\"Convert SNP VCF format to GenePop format with DNA bases converted to numbered alleles.\"\"\"\n",
    "    # Mapping DNA bases to numbers for GenePop\n",
    "    dna_to_number = {'A': '001', 'C': '002', 'G': '003', 'T': '004'}\n",
    "    \n",
    "    vcf_reader = vcf.Reader(filename=vcf_file)\n",
    "    with open(output_file, 'w') as genepop:\n",
    "        # Write title\n",
    "        genepop.write(\"SNPvcf2genepop\\n\")\n",
    "        \n",
    "        # Collect locus names\n",
    "        # locus_names = [record.ID if record.ID else f\"SNP_{record.POS}\" for record in vcf_reader]\n",
    "        locus_names = []\n",
    "        unique_ids = set()\n",
    "        for record in vcf_reader:\n",
    "            locus_id = f\"SNP_{record.POS}\"\n",
    "            while locus_id in unique_ids:\n",
    "                # Add a random digit to the end of the locus_id if it's not unique\n",
    "                locus_id += str(random.randint(0, 9))\n",
    "            unique_ids.add(locus_id)\n",
    "            locus_names.append(locus_id)\n",
    "        genepop.write(\"\\n\".join(locus_names) + \"\\n\")\n",
    "        \n",
    "        # Reset the reader to read samples\n",
    "        vcf_reader = vcf.Reader(filename=vcf_file)\n",
    "        \n",
    "        # Initialize a dictionary to collect genotypes for each sample\n",
    "        samples_genotypes = {}\n",
    "        for record in vcf_reader:\n",
    "            alleles_map = [record.REF] + [alt.sequence for alt in record.ALT]  # 0 is REF, 1 and more are ALT alleles\n",
    "            for sample in record.samples:\n",
    "                if sample.sample not in samples_genotypes:\n",
    "                    samples_genotypes[sample.sample] = []\n",
    "                # Convert numeric genotype to DNA bases using REF and ALT\n",
    "                if sample.gt_alleles:\n",
    "                    dna_alleles = [alleles_map[int(allele)] if allele is not None else '0' for allele in sample.gt_alleles]\n",
    "                    numbered_alleles = [dna_to_number.get(allele, '000') for allele in dna_alleles]\n",
    "                    genotype = ''.join(numbered_alleles)\n",
    "                else:\n",
    "                    genotype = '000000'  # Default for missing data (two alleles missing)\n",
    "                samples_genotypes[sample.sample].append(genotype)\n",
    "        \n",
    "        # Organize samples by prefix\n",
    "        prefix_groups = {}\n",
    "        for sample, genotypes in samples_genotypes.items():\n",
    "            prefix = sample.split('_')[0]\n",
    "            if prefix not in prefix_groups:\n",
    "                prefix_groups[prefix] = []\n",
    "            prefix_groups[prefix].append((sample, genotypes))\n",
    "        \n",
    "        # Write genotypes with POP labels for each group\n",
    "        for prefix, samples in prefix_groups.items():\n",
    "            genepop.write(\"POP\\n\")\n",
    "            for sample, genotypes in samples:\n",
    "                genepop.write(f\"{sample} ,  \" + \" \".join(genotypes) + \"\\n\")\n"
   ]
  },
  {
   "cell_type": "code",
   "execution_count": 10,
   "metadata": {},
   "outputs": [],
   "source": [
    "# Example usage (commented out):\n",
    "snp_vcf_to_genepop_dna(\"vcf/bass_snp_clean.vcf\", \"SNP.filted.gen\")"
   ]
  }
 ],
 "metadata": {
  "kernelspec": {
   "display_name": "Python 3",
   "language": "python",
   "name": "python3"
  },
  "language_info": {
   "codemirror_mode": {
    "name": "ipython",
    "version": 3
   },
   "file_extension": ".py",
   "mimetype": "text/x-python",
   "name": "python",
   "nbconvert_exporter": "python",
   "pygments_lexer": "ipython3",
   "version": "3.8.16"
  }
 },
 "nbformat": 4,
 "nbformat_minor": 2
}
